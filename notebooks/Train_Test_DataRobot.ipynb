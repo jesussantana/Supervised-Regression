{
 "cells": [
  {
   "cell_type": "markdown",
   "id": "a2d31b82",
   "metadata": {},
   "source": [
    "# Train Test Data To DataRobot Deploy Models"
   ]
  },
  {
   "cell_type": "markdown",
   "id": "e2b314ce",
   "metadata": {},
   "source": [
    "## Clean Dataset"
   ]
  },
  {
   "cell_type": "code",
   "execution_count": 1,
   "id": "b5aa9b02",
   "metadata": {},
   "outputs": [
    {
     "data": {
      "application/javascript": [
       "\n",
       "        if (window._pyforest_update_imports_cell) { window._pyforest_update_imports_cell('import sys'); }\n",
       "    "
      ],
      "text/plain": [
       "<IPython.core.display.Javascript object>"
      ]
     },
     "metadata": {},
     "output_type": "display_data"
    },
    {
     "data": {
      "application/javascript": [
       "\n",
       "        if (window._pyforest_update_imports_cell) { window._pyforest_update_imports_cell('import sys'); }\n",
       "    "
      ],
      "text/plain": [
       "<IPython.core.display.Javascript object>"
      ]
     },
     "metadata": {},
     "output_type": "display_data"
    }
   ],
   "source": [
    "import pandas as pd\n",
    "from sklearn.model_selection import train_test_split\n",
    "import sys\n",
    "# ^^^ pyforest auto-imports - don't write above this line\n",
    "# ==============================================================================\n",
    "# Auto Import Dependencies\n",
    "# ==============================================================================\n",
    "# pyforest imports dependencies according to use in the notebook\n",
    "# ==============================================================================\n",
    "\n",
    "# Warnings configuration\n",
    "# ==============================================================================\n",
    "import warnings\n",
    "warnings.filterwarnings('ignore')\n",
    "\n",
    "# Folder configuration\n",
    "# ==============================================================================\n",
    "new_path = '../scripts/'\n",
    "if new_path not in sys.path:\n",
    "    sys.path.append(new_path)"
   ]
  },
  {
   "cell_type": "code",
   "execution_count": 2,
   "id": "c25aeffb",
   "metadata": {},
   "outputs": [
    {
     "data": {
      "application/javascript": [
       "\n",
       "        if (window._pyforest_update_imports_cell) { window._pyforest_update_imports_cell('import pandas as pd\\nimport sys'); }\n",
       "    "
      ],
      "text/plain": [
       "<IPython.core.display.Javascript object>"
      ]
     },
     "metadata": {},
     "output_type": "display_data"
    }
   ],
   "source": [
    "path = '../data/'\n",
    "file = 'raw/DelayedFlights.csv'\n",
    "\n",
    "df_raw = pd.read_csv(path+file)"
   ]
  },
  {
   "cell_type": "code",
   "execution_count": 3,
   "id": "c4cbb6d3",
   "metadata": {},
   "outputs": [],
   "source": [
    "df = df_raw.copy()"
   ]
  },
  {
   "cell_type": "code",
   "execution_count": 4,
   "id": "6f60bc76",
   "metadata": {},
   "outputs": [],
   "source": [
    "df = df_raw.drop(labels='Unnamed: 0', axis=1)"
   ]
  },
  {
   "cell_type": "code",
   "execution_count": 5,
   "id": "5293fa59",
   "metadata": {},
   "outputs": [],
   "source": [
    "df = df.sample(frac=0.25, random_state = 6858) # Max 200 MB File to DataRobot"
   ]
  },
  {
   "cell_type": "code",
   "execution_count": 6,
   "id": "7911cb06",
   "metadata": {},
   "outputs": [],
   "source": [
    "df.drop_duplicates(inplace=True)"
   ]
  },
  {
   "cell_type": "code",
   "execution_count": 7,
   "id": "e89cb6bf",
   "metadata": {},
   "outputs": [],
   "source": [
    "# Frecuency encoding\n",
    "\n",
    "labels = ['UniqueCarrier', 'TailNum', 'Origin', 'Dest', 'CancellationCode']\n",
    "\n",
    "for category in labels: \n",
    "    \n",
    "    cat_map = df.groupby(category).size() / len(df)*100\n",
    "    \n",
    "    df[category] = df[category].map(cat_map)"
   ]
  },
  {
   "cell_type": "code",
   "execution_count": 8,
   "id": "9e8b0e72",
   "metadata": {},
   "outputs": [
    {
     "data": {
      "text/html": [
       "<div>\n",
       "<style scoped>\n",
       "    .dataframe tbody tr th:only-of-type {\n",
       "        vertical-align: middle;\n",
       "    }\n",
       "\n",
       "    .dataframe tbody tr th {\n",
       "        vertical-align: top;\n",
       "    }\n",
       "\n",
       "    .dataframe thead th {\n",
       "        text-align: right;\n",
       "    }\n",
       "</style>\n",
       "<table border=\"1\" class=\"dataframe\">\n",
       "  <thead>\n",
       "    <tr style=\"text-align: right;\">\n",
       "      <th></th>\n",
       "      <th>Year</th>\n",
       "      <th>Month</th>\n",
       "      <th>DayofMonth</th>\n",
       "      <th>DayOfWeek</th>\n",
       "      <th>DepTime</th>\n",
       "      <th>CRSDepTime</th>\n",
       "      <th>ArrTime</th>\n",
       "      <th>CRSArrTime</th>\n",
       "      <th>UniqueCarrier</th>\n",
       "      <th>FlightNum</th>\n",
       "      <th>...</th>\n",
       "      <th>TaxiIn</th>\n",
       "      <th>TaxiOut</th>\n",
       "      <th>Cancelled</th>\n",
       "      <th>CancellationCode</th>\n",
       "      <th>Diverted</th>\n",
       "      <th>CarrierDelay</th>\n",
       "      <th>WeatherDelay</th>\n",
       "      <th>NASDelay</th>\n",
       "      <th>SecurityDelay</th>\n",
       "      <th>LateAircraftDelay</th>\n",
       "    </tr>\n",
       "  </thead>\n",
       "  <tbody>\n",
       "    <tr>\n",
       "      <th>32721</th>\n",
       "      <td>2008</td>\n",
       "      <td>1</td>\n",
       "      <td>1</td>\n",
       "      <td>2</td>\n",
       "      <td>1402.0</td>\n",
       "      <td>1230</td>\n",
       "      <td>1417.0</td>\n",
       "      <td>1256</td>\n",
       "      <td>5.358847</td>\n",
       "      <td>7768</td>\n",
       "      <td>...</td>\n",
       "      <td>6.0</td>\n",
       "      <td>13.0</td>\n",
       "      <td>0</td>\n",
       "      <td>99.966129</td>\n",
       "      <td>0</td>\n",
       "      <td>0.0</td>\n",
       "      <td>0.0</td>\n",
       "      <td>0.0</td>\n",
       "      <td>0.0</td>\n",
       "      <td>81.0</td>\n",
       "    </tr>\n",
       "    <tr>\n",
       "      <th>480545</th>\n",
       "      <td>2008</td>\n",
       "      <td>3</td>\n",
       "      <td>20</td>\n",
       "      <td>4</td>\n",
       "      <td>1723.0</td>\n",
       "      <td>1715</td>\n",
       "      <td>1932.0</td>\n",
       "      <td>1906</td>\n",
       "      <td>4.189471</td>\n",
       "      <td>4358</td>\n",
       "      <td>...</td>\n",
       "      <td>12.0</td>\n",
       "      <td>17.0</td>\n",
       "      <td>0</td>\n",
       "      <td>99.966129</td>\n",
       "      <td>0</td>\n",
       "      <td>8.0</td>\n",
       "      <td>0.0</td>\n",
       "      <td>18.0</td>\n",
       "      <td>0.0</td>\n",
       "      <td>0.0</td>\n",
       "    </tr>\n",
       "    <tr>\n",
       "      <th>879313</th>\n",
       "      <td>2008</td>\n",
       "      <td>5</td>\n",
       "      <td>5</td>\n",
       "      <td>1</td>\n",
       "      <td>703.0</td>\n",
       "      <td>650</td>\n",
       "      <td>1031.0</td>\n",
       "      <td>1011</td>\n",
       "      <td>5.978438</td>\n",
       "      <td>1167</td>\n",
       "      <td>...</td>\n",
       "      <td>8.0</td>\n",
       "      <td>18.0</td>\n",
       "      <td>0</td>\n",
       "      <td>99.966129</td>\n",
       "      <td>0</td>\n",
       "      <td>0.0</td>\n",
       "      <td>0.0</td>\n",
       "      <td>20.0</td>\n",
       "      <td>0.0</td>\n",
       "      <td>0.0</td>\n",
       "    </tr>\n",
       "    <tr>\n",
       "      <th>1670776</th>\n",
       "      <td>2008</td>\n",
       "      <td>11</td>\n",
       "      <td>8</td>\n",
       "      <td>6</td>\n",
       "      <td>1628.0</td>\n",
       "      <td>1559</td>\n",
       "      <td>1731.0</td>\n",
       "      <td>1715</td>\n",
       "      <td>7.297755</td>\n",
       "      <td>1553</td>\n",
       "      <td>...</td>\n",
       "      <td>7.0</td>\n",
       "      <td>14.0</td>\n",
       "      <td>0</td>\n",
       "      <td>99.966129</td>\n",
       "      <td>0</td>\n",
       "      <td>0.0</td>\n",
       "      <td>0.0</td>\n",
       "      <td>0.0</td>\n",
       "      <td>0.0</td>\n",
       "      <td>16.0</td>\n",
       "    </tr>\n",
       "    <tr>\n",
       "      <th>1464310</th>\n",
       "      <td>2008</td>\n",
       "      <td>9</td>\n",
       "      <td>26</td>\n",
       "      <td>5</td>\n",
       "      <td>1526.0</td>\n",
       "      <td>1230</td>\n",
       "      <td>2322.0</td>\n",
       "      <td>2029</td>\n",
       "      <td>7.297755</td>\n",
       "      <td>52</td>\n",
       "      <td>...</td>\n",
       "      <td>6.0</td>\n",
       "      <td>10.0</td>\n",
       "      <td>0</td>\n",
       "      <td>99.966129</td>\n",
       "      <td>0</td>\n",
       "      <td>0.0</td>\n",
       "      <td>0.0</td>\n",
       "      <td>0.0</td>\n",
       "      <td>0.0</td>\n",
       "      <td>173.0</td>\n",
       "    </tr>\n",
       "  </tbody>\n",
       "</table>\n",
       "<p>5 rows × 29 columns</p>\n",
       "</div>"
      ],
      "text/plain": [
       "         Year  Month  DayofMonth  DayOfWeek  DepTime  CRSDepTime  ArrTime  \\\n",
       "32721    2008      1           1          2   1402.0        1230   1417.0   \n",
       "480545   2008      3          20          4   1723.0        1715   1932.0   \n",
       "879313   2008      5           5          1    703.0         650   1031.0   \n",
       "1670776  2008     11           8          6   1628.0        1559   1731.0   \n",
       "1464310  2008      9          26          5   1526.0        1230   2322.0   \n",
       "\n",
       "         CRSArrTime  UniqueCarrier  FlightNum  ...  TaxiIn  TaxiOut  \\\n",
       "32721          1256       5.358847       7768  ...     6.0     13.0   \n",
       "480545         1906       4.189471       4358  ...    12.0     17.0   \n",
       "879313         1011       5.978438       1167  ...     8.0     18.0   \n",
       "1670776        1715       7.297755       1553  ...     7.0     14.0   \n",
       "1464310        2029       7.297755         52  ...     6.0     10.0   \n",
       "\n",
       "         Cancelled  CancellationCode  Diverted  CarrierDelay  WeatherDelay  \\\n",
       "32721            0         99.966129         0           0.0           0.0   \n",
       "480545           0         99.966129         0           8.0           0.0   \n",
       "879313           0         99.966129         0           0.0           0.0   \n",
       "1670776          0         99.966129         0           0.0           0.0   \n",
       "1464310          0         99.966129         0           0.0           0.0   \n",
       "\n",
       "         NASDelay  SecurityDelay  LateAircraftDelay  \n",
       "32721         0.0            0.0               81.0  \n",
       "480545       18.0            0.0                0.0  \n",
       "879313       20.0            0.0                0.0  \n",
       "1670776       0.0            0.0               16.0  \n",
       "1464310       0.0            0.0              173.0  \n",
       "\n",
       "[5 rows x 29 columns]"
      ]
     },
     "execution_count": 8,
     "metadata": {},
     "output_type": "execute_result"
    }
   ],
   "source": [
    "df.head()"
   ]
  },
  {
   "cell_type": "code",
   "execution_count": 9,
   "id": "6f412531",
   "metadata": {},
   "outputs": [],
   "source": [
    "# Script created for transform missing data\n",
    "# ===============================================================================\n",
    "\n",
    "import missing"
   ]
  },
  {
   "cell_type": "code",
   "execution_count": 10,
   "id": "424d067f",
   "metadata": {},
   "outputs": [],
   "source": [
    "df[:] = missing.transform(df[:], 'mean')"
   ]
  },
  {
   "cell_type": "code",
   "execution_count": 11,
   "id": "e190b5f8",
   "metadata": {},
   "outputs": [
    {
     "data": {
      "text/plain": [
       "0"
      ]
     },
     "execution_count": 11,
     "metadata": {},
     "output_type": "execute_result"
    }
   ],
   "source": [
    "df.isnull().sum().sum()"
   ]
  },
  {
   "cell_type": "code",
   "execution_count": 12,
   "id": "3f65109e",
   "metadata": {},
   "outputs": [],
   "source": [
    "df.replace([np.inf, -np.inf], np.nan, inplace=True)\n",
    "df.dropna(inplace=True)"
   ]
  },
  {
   "cell_type": "code",
   "execution_count": 13,
   "id": "f77b30db",
   "metadata": {},
   "outputs": [
    {
     "data": {
      "text/plain": [
       "Year                 False\n",
       "Month                False\n",
       "DayofMonth           False\n",
       "DayOfWeek            False\n",
       "DepTime              False\n",
       "CRSDepTime           False\n",
       "ArrTime              False\n",
       "CRSArrTime           False\n",
       "UniqueCarrier        False\n",
       "FlightNum            False\n",
       "TailNum              False\n",
       "ActualElapsedTime    False\n",
       "CRSElapsedTime       False\n",
       "AirTime              False\n",
       "ArrDelay             False\n",
       "DepDelay             False\n",
       "Origin               False\n",
       "Dest                 False\n",
       "Distance             False\n",
       "TaxiIn               False\n",
       "TaxiOut              False\n",
       "Cancelled            False\n",
       "CancellationCode     False\n",
       "Diverted             False\n",
       "CarrierDelay         False\n",
       "WeatherDelay         False\n",
       "NASDelay             False\n",
       "SecurityDelay        False\n",
       "LateAircraftDelay    False\n",
       "dtype: bool"
      ]
     },
     "execution_count": 13,
     "metadata": {},
     "output_type": "execute_result"
    }
   ],
   "source": [
    "df.isna().any()"
   ]
  },
  {
   "cell_type": "markdown",
   "id": "097ab7e4",
   "metadata": {},
   "source": [
    "### Train Test"
   ]
  },
  {
   "cell_type": "code",
   "execution_count": 14,
   "id": "bd153fd3",
   "metadata": {},
   "outputs": [],
   "source": [
    "# Matrix\n",
    "X = df\n",
    "# Vector\n",
    "y = df['ArrDelay']\n"
   ]
  },
  {
   "cell_type": "code",
   "execution_count": 15,
   "id": "d235682c",
   "metadata": {},
   "outputs": [
    {
     "data": {
      "application/javascript": [
       "\n",
       "        if (window._pyforest_update_imports_cell) { window._pyforest_update_imports_cell('import pandas as pd\\nfrom sklearn.model_selection import train_test_split\\nimport sys'); }\n",
       "    "
      ],
      "text/plain": [
       "<IPython.core.display.Javascript object>"
      ]
     },
     "metadata": {},
     "output_type": "display_data"
    }
   ],
   "source": [
    "# Call train_test_split on the data and capture the results\n",
    "# ============================================================================\n",
    "\n",
    "X_train, X_test, y_train, y_test = train_test_split(X, y, test_size = 0.2, random_state = 6858)"
   ]
  },
  {
   "cell_type": "code",
   "execution_count": 16,
   "id": "142e0c9e",
   "metadata": {},
   "outputs": [],
   "source": [
    "X_train.to_csv(path + \"interim/X_train_DataRobot.csv\", index = False, header = True)\n",
    "X_test.to_csv(path + \"interim/X_test_DataRobot.csv\", index = False, header = True)"
   ]
  }
 ],
 "metadata": {
  "kernelspec": {
   "display_name": "Python 3.8.5 64-bit ('base': conda)",
   "language": "python",
   "name": "python385jvsc74a57bd02c304d0744c63eb0cf275252f889b831c4efa7f5cd03bb8eb1791a6cbed8475e"
  },
  "language_info": {
   "codemirror_mode": {
    "name": "ipython",
    "version": 3
   },
   "file_extension": ".py",
   "mimetype": "text/x-python",
   "name": "python",
   "nbconvert_exporter": "python",
   "pygments_lexer": "ipython3",
   "version": "3.8.5"
  }
 },
 "nbformat": 4,
 "nbformat_minor": 5
}
