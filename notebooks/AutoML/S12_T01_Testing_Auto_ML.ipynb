{
 "metadata": {
  "language_info": {
   "codemirror_mode": {
    "name": "ipython",
    "version": 3
   },
   "file_extension": ".py",
   "mimetype": "text/x-python",
   "name": "python",
   "nbconvert_exporter": "python",
   "pygments_lexer": "ipython3",
   "version": "3.8.5"
  },
  "orig_nbformat": 2,
  "kernelspec": {
   "name": "python385jvsc74a57bd031f2aee4e71d21fbe5cf8b01ff0e069b9275f58929596ceb00d14d90e3e16cd6",
   "display_name": "Python 3.8.5 64-bit"
  },
  "metadata": {
   "interpreter": {
    "hash": "31f2aee4e71d21fbe5cf8b01ff0e069b9275f58929596ceb00d14d90e3e16cd6"
   }
  }
 },
 "nbformat": 4,
 "nbformat_minor": 2,
 "cells": [
  {
   "cell_type": "code",
   "execution_count": 2,
   "metadata": {},
   "outputs": [],
   "source": [
    "import numpy as np\n",
    "import pandas as pd\n",
    "from sklearn.model_selection import train_test_split\n",
    "from sklearn.impute import SimpleImputer\n",
    "from sklearn.compose import ColumnTransformer, make_column_selector\n",
    "from sklearn.preprocessing import StandardScaler, MinMaxScaler, RobustScaler, OneHotEncoder\n",
    "from sklearn.feature_selection import SelectKBest, f_classif\n",
    "from sklearn.model_selection import RandomizedSearchCV\n",
    "from sklearn.pipeline import Pipeline\n",
    "from sklearn.linear_model import LogisticRegression\n",
    "from sklearn.ensemble import RandomForestClassifier, GradientBoostingClassifier\n",
    "from sklearn.neighbors import KNeighborsClassifier\n",
    "from sklearn.tree import DecisionTreeClassifier\n",
    "from sklearn.svm import LinearSVC,SVC\n",
    "from sklearn.datasets import load_breast_cancer\n",
    "from sklearn.metrics import balanced_accuracy_score\n",
    "# Folder configuration\n",
    "# ==============================================================================\n",
    "from os import path\n",
    "import sys\n",
    "new_path = '../../scripts/'\n",
    "if new_path not in sys.path:\n",
    "    sys.path.append(new_path)"
   ]
  },
  {
   "cell_type": "code",
   "execution_count": 3,
   "metadata": {},
   "outputs": [],
   "source": [
    "\n",
    "class MyAutoMLClassifier:\n",
    "  def __init__(self, scoring_function = 'balanced_accuracy', n_iter = 50):\n",
    "    self.scoring_function = scoring_function\n",
    "    self.n_iter = n_iter\n",
    "  \n",
    "  def fit(self,X,y):\n",
    "    X_train = X\n",
    "    y_train = y\n",
    "\n",
    "    categorical_values = []\n",
    "\n",
    "    cat_subset = X_train.select_dtypes(include = ['object','category','bool'])\n",
    "\n",
    "    for i in range(cat_subset.shape[1]):\n",
    "      categorical_values.append(list(cat_subset.iloc[:,i].dropna().unique()))\n",
    "\n",
    "    num_pipeline = Pipeline([\n",
    "                         ('cleaner',SimpleImputer()),\n",
    "                         ('scaler',StandardScaler())\n",
    "                         ])\n",
    "\n",
    "    cat_pipeline = Pipeline([\n",
    "                        ('cleaner',SimpleImputer(strategy = 'most_frequent')),\n",
    "                        ('encoder',OneHotEncoder(sparse = False, categories=categorical_values))\n",
    "    ])\n",
    "\n",
    "\n",
    "    preprocessor = ColumnTransformer([\n",
    "      ('numerical', num_pipeline, make_column_selector(dtype_exclude=['object','category','bool'])),\n",
    "      ('categorical', cat_pipeline, make_column_selector(dtype_include=['object','category','bool']))\n",
    "    ])\n",
    "\n",
    "    model_pipeline_steps = []\n",
    "    model_pipeline_steps.append(('preprocessor',preprocessor))\n",
    "    model_pipeline_steps.append(('feature_selector',SelectKBest(f_classif,k='all')))\n",
    "    model_pipeline_steps.append(('estimator',LogisticRegression()))\n",
    "    model_pipeline = Pipeline(model_pipeline_steps)\n",
    "\n",
    "    total_features = preprocessor.fit_transform(X_train).shape[1]\n",
    "\n",
    "    optimization_grid = []\n",
    "\n",
    "    # Logistic regression\n",
    "    optimization_grid.append({\n",
    "        'preprocessor__numerical__scaler':[RobustScaler(),StandardScaler(),MinMaxScaler()],\n",
    "        'preprocessor__numerical__cleaner__strategy':['mean','median'],\n",
    "        'feature_selector__k': list(np.arange(1,total_features,5)) + ['all'],\n",
    "        'estimator':[LogisticRegression()]\n",
    "    })\n",
    "\n",
    "    # K-nearest neighbors\n",
    "    optimization_grid.append({\n",
    "        'preprocessor__numerical__scaler':[RobustScaler(),StandardScaler(),MinMaxScaler()],\n",
    "        'preprocessor__numerical__cleaner__strategy':['mean','median'],\n",
    "        'feature_selector__k': list(np.arange(1,total_features,5)) + ['all'],\n",
    "        'estimator':[KNeighborsClassifier()],\n",
    "        'estimator__weights':['uniform','distance'],\n",
    "        'estimator__n_neighbors':np.arange(1,20,1)\n",
    "    })\n",
    "\n",
    "    # Random Forest\n",
    "    optimization_grid.append({\n",
    "        'preprocessor__numerical__scaler':[None],\n",
    "        'preprocessor__numerical__cleaner__strategy':['mean','median'],\n",
    "        'feature_selector__k': list(np.arange(1,total_features,5)) + ['all'],\n",
    "        'estimator':[RandomForestClassifier(random_state=0)],\n",
    "        'estimator__n_estimators':np.arange(5,500,10),\n",
    "        'estimator__criterion':['gini','entropy']\n",
    "    })\n",
    "\n",
    "\n",
    "    # Gradient boosting\n",
    "    optimization_grid.append({\n",
    "        'preprocessor__numerical__scaler':[None],\n",
    "        'preprocessor__numerical__cleaner__strategy':['mean','median'],\n",
    "        'feature_selector__k': list(np.arange(1,total_features,5)) + ['all'],\n",
    "        'estimator':[GradientBoostingClassifier(random_state=0)],\n",
    "        'estimator__n_estimators':np.arange(5,500,10),\n",
    "        'estimator__learning_rate':np.linspace(0.1,0.9,20),\n",
    "    })\n",
    "\n",
    "\n",
    "\n",
    "    # Decision tree\n",
    "    optimization_grid.append({\n",
    "        'preprocessor__numerical__scaler':[None],\n",
    "        'preprocessor__numerical__cleaner__strategy':['mean','median'],\n",
    "        'feature_selector__k': list(np.arange(1,total_features,5)) + ['all'],\n",
    "        'estimator':[DecisionTreeClassifier(random_state=0)],\n",
    "        'estimator__criterion':['gini','entropy']\n",
    "    })\n",
    "\n",
    "    # Linear SVM\n",
    "    optimization_grid.append({\n",
    "        'preprocessor__numerical__scaler':[RobustScaler(),StandardScaler(),MinMaxScaler()],\n",
    "        'preprocessor__numerical__cleaner__strategy':['mean','median'],\n",
    "        'feature_selector__k': list(np.arange(1,total_features,5)) + ['all'],\n",
    "        'estimator':[LinearSVC(random_state = 0)],\n",
    "        'estimator__C': np.arange(0.1,1,0.1),\n",
    "        \n",
    "    })\n",
    "\n",
    "    search = RandomizedSearchCV(\n",
    "      model_pipeline,\n",
    "      optimization_grid,\n",
    "      n_iter=self.n_iter,\n",
    "      scoring = self.scoring_function, \n",
    "      n_jobs = -1, \n",
    "      random_state = 0, \n",
    "      verbose = 3,\n",
    "      cv = 5\n",
    "    )\n",
    "\n",
    "    search.fit(X_train, y_train)\n",
    "    self.best_estimator_ = search.best_estimator_\n",
    "    self.best_pipeline = search.best_params_\n",
    "    \n",
    "\n",
    "  \n",
    "  def predict(self,X,y = None):\n",
    "    return self.best_estimator_.predict(X)\n",
    "\n",
    "  def predict_proba(self,X,y = None):\n",
    "    return self.best_estimator_.predict_proba(X)"
   ]
  },
  {
   "cell_type": "code",
   "execution_count": 4,
   "metadata": {},
   "outputs": [],
   "source": [
    "# Path folder configuration\n",
    "# ===============================================================================\n",
    "\n",
    "path = '../../data/'\n",
    "file = 'raw/DelayedFlights.csv'\n",
    "\n",
    "d = pd.read_csv(path+file)"
   ]
  },
  {
   "cell_type": "code",
   "execution_count": 5,
   "metadata": {},
   "outputs": [],
   "source": [
    "d = d.drop(labels='Unnamed: 0', axis=1)"
   ]
  },
  {
   "cell_type": "code",
   "execution_count": 6,
   "metadata": {},
   "outputs": [],
   "source": [
    "d = d.loc[:,[\"ArrDelay\",\"ArrTime\",\"AirTime\", \"Distance\", \"TaxiIn\", \"TaxiOut\", \"DayOfWeek\", \"DepDelay\",\"CarrierDelay\", 'UniqueCarrier']]"
   ]
  },
  {
   "cell_type": "code",
   "execution_count": 7,
   "metadata": {},
   "outputs": [],
   "source": [
    "d = d.sample(frac=0.00001, random_state = 6858)"
   ]
  },
  {
   "cell_type": "code",
   "execution_count": 8,
   "metadata": {},
   "outputs": [
    {
     "output_type": "execute_result",
     "data": {
      "text/plain": [
       "         ArrDelay  ArrTime  AirTime  Distance  TaxiIn  TaxiOut  DayOfWeek  \\\n",
       "32721        81.0   1417.0     56.0       370     6.0     13.0          2   \n",
       "480545       26.0   1932.0    100.0       317    12.0     17.0          4   \n",
       "879313       20.0   1031.0    302.0      2105     8.0     18.0          1   \n",
       "1670776      16.0   1731.0     42.0       236     7.0     14.0          6   \n",
       "1464310     173.0   2322.0    280.0      2367     6.0     10.0          5   \n",
       "831723       20.0   1800.0     45.0       296     4.0     24.0          1   \n",
       "1770785     -16.0   2219.0     75.0       585     4.0      8.0          2   \n",
       "681387       17.0   1457.0    129.0       957     5.0     22.0          7   \n",
       "1909246       6.0   1941.0     37.0       190     3.0     16.0          3   \n",
       "1338544      16.0   1712.0     97.0       678     5.0     34.0          4   \n",
       "372328       28.0   2142.0     32.0       191     7.0     28.0          2   \n",
       "881487       18.0   1653.0     73.0       576     4.0     14.0          4   \n",
       "1022288      14.0   2242.0     49.0       334    11.0     14.0          2   \n",
       "549484        9.0   1824.0    145.0       987     8.0      8.0          6   \n",
       "805369      125.0   1922.0    112.0       759     9.0     44.0          6   \n",
       "878507       29.0   1609.0     42.0       214     3.0     45.0          4   \n",
       "1723086     122.0   1906.0    288.0      2465     9.0     10.0          4   \n",
       "828262        5.0   1010.0     58.0       364    12.0     12.0          7   \n",
       "558495       -9.0   1029.0    158.0      1091     5.0     10.0          5   \n",
       "\n",
       "         DepDelay  CarrierDelay UniqueCarrier  \n",
       "32721        92.0           0.0            XE  \n",
       "480545        8.0           8.0            EV  \n",
       "879313       13.0           0.0            DL  \n",
       "1670776      29.0           0.0            UA  \n",
       "1464310     176.0           0.0            UA  \n",
       "831723       22.0           5.0            MQ  \n",
       "1770785      12.0           NaN            WN  \n",
       "681387        7.0           7.0            NW  \n",
       "1909246      10.0           NaN            AA  \n",
       "1338544       6.0           0.0            US  \n",
       "372328       24.0          24.0            DL  \n",
       "881487       37.0           7.0            DL  \n",
       "1022288      13.0           NaN            NW  \n",
       "549484       15.0           NaN            AS  \n",
       "805369       98.0           0.0            US  \n",
       "878507       10.0          10.0            DL  \n",
       "1723086     129.0          19.0            B6  \n",
       "828262        8.0           NaN            MQ  \n",
       "558495       11.0           NaN            CO  "
      ],
      "text/html": "<div>\n<style scoped>\n    .dataframe tbody tr th:only-of-type {\n        vertical-align: middle;\n    }\n\n    .dataframe tbody tr th {\n        vertical-align: top;\n    }\n\n    .dataframe thead th {\n        text-align: right;\n    }\n</style>\n<table border=\"1\" class=\"dataframe\">\n  <thead>\n    <tr style=\"text-align: right;\">\n      <th></th>\n      <th>ArrDelay</th>\n      <th>ArrTime</th>\n      <th>AirTime</th>\n      <th>Distance</th>\n      <th>TaxiIn</th>\n      <th>TaxiOut</th>\n      <th>DayOfWeek</th>\n      <th>DepDelay</th>\n      <th>CarrierDelay</th>\n      <th>UniqueCarrier</th>\n    </tr>\n  </thead>\n  <tbody>\n    <tr>\n      <th>32721</th>\n      <td>81.0</td>\n      <td>1417.0</td>\n      <td>56.0</td>\n      <td>370</td>\n      <td>6.0</td>\n      <td>13.0</td>\n      <td>2</td>\n      <td>92.0</td>\n      <td>0.0</td>\n      <td>XE</td>\n    </tr>\n    <tr>\n      <th>480545</th>\n      <td>26.0</td>\n      <td>1932.0</td>\n      <td>100.0</td>\n      <td>317</td>\n      <td>12.0</td>\n      <td>17.0</td>\n      <td>4</td>\n      <td>8.0</td>\n      <td>8.0</td>\n      <td>EV</td>\n    </tr>\n    <tr>\n      <th>879313</th>\n      <td>20.0</td>\n      <td>1031.0</td>\n      <td>302.0</td>\n      <td>2105</td>\n      <td>8.0</td>\n      <td>18.0</td>\n      <td>1</td>\n      <td>13.0</td>\n      <td>0.0</td>\n      <td>DL</td>\n    </tr>\n    <tr>\n      <th>1670776</th>\n      <td>16.0</td>\n      <td>1731.0</td>\n      <td>42.0</td>\n      <td>236</td>\n      <td>7.0</td>\n      <td>14.0</td>\n      <td>6</td>\n      <td>29.0</td>\n      <td>0.0</td>\n      <td>UA</td>\n    </tr>\n    <tr>\n      <th>1464310</th>\n      <td>173.0</td>\n      <td>2322.0</td>\n      <td>280.0</td>\n      <td>2367</td>\n      <td>6.0</td>\n      <td>10.0</td>\n      <td>5</td>\n      <td>176.0</td>\n      <td>0.0</td>\n      <td>UA</td>\n    </tr>\n    <tr>\n      <th>831723</th>\n      <td>20.0</td>\n      <td>1800.0</td>\n      <td>45.0</td>\n      <td>296</td>\n      <td>4.0</td>\n      <td>24.0</td>\n      <td>1</td>\n      <td>22.0</td>\n      <td>5.0</td>\n      <td>MQ</td>\n    </tr>\n    <tr>\n      <th>1770785</th>\n      <td>-16.0</td>\n      <td>2219.0</td>\n      <td>75.0</td>\n      <td>585</td>\n      <td>4.0</td>\n      <td>8.0</td>\n      <td>2</td>\n      <td>12.0</td>\n      <td>NaN</td>\n      <td>WN</td>\n    </tr>\n    <tr>\n      <th>681387</th>\n      <td>17.0</td>\n      <td>1457.0</td>\n      <td>129.0</td>\n      <td>957</td>\n      <td>5.0</td>\n      <td>22.0</td>\n      <td>7</td>\n      <td>7.0</td>\n      <td>7.0</td>\n      <td>NW</td>\n    </tr>\n    <tr>\n      <th>1909246</th>\n      <td>6.0</td>\n      <td>1941.0</td>\n      <td>37.0</td>\n      <td>190</td>\n      <td>3.0</td>\n      <td>16.0</td>\n      <td>3</td>\n      <td>10.0</td>\n      <td>NaN</td>\n      <td>AA</td>\n    </tr>\n    <tr>\n      <th>1338544</th>\n      <td>16.0</td>\n      <td>1712.0</td>\n      <td>97.0</td>\n      <td>678</td>\n      <td>5.0</td>\n      <td>34.0</td>\n      <td>4</td>\n      <td>6.0</td>\n      <td>0.0</td>\n      <td>US</td>\n    </tr>\n    <tr>\n      <th>372328</th>\n      <td>28.0</td>\n      <td>2142.0</td>\n      <td>32.0</td>\n      <td>191</td>\n      <td>7.0</td>\n      <td>28.0</td>\n      <td>2</td>\n      <td>24.0</td>\n      <td>24.0</td>\n      <td>DL</td>\n    </tr>\n    <tr>\n      <th>881487</th>\n      <td>18.0</td>\n      <td>1653.0</td>\n      <td>73.0</td>\n      <td>576</td>\n      <td>4.0</td>\n      <td>14.0</td>\n      <td>4</td>\n      <td>37.0</td>\n      <td>7.0</td>\n      <td>DL</td>\n    </tr>\n    <tr>\n      <th>1022288</th>\n      <td>14.0</td>\n      <td>2242.0</td>\n      <td>49.0</td>\n      <td>334</td>\n      <td>11.0</td>\n      <td>14.0</td>\n      <td>2</td>\n      <td>13.0</td>\n      <td>NaN</td>\n      <td>NW</td>\n    </tr>\n    <tr>\n      <th>549484</th>\n      <td>9.0</td>\n      <td>1824.0</td>\n      <td>145.0</td>\n      <td>987</td>\n      <td>8.0</td>\n      <td>8.0</td>\n      <td>6</td>\n      <td>15.0</td>\n      <td>NaN</td>\n      <td>AS</td>\n    </tr>\n    <tr>\n      <th>805369</th>\n      <td>125.0</td>\n      <td>1922.0</td>\n      <td>112.0</td>\n      <td>759</td>\n      <td>9.0</td>\n      <td>44.0</td>\n      <td>6</td>\n      <td>98.0</td>\n      <td>0.0</td>\n      <td>US</td>\n    </tr>\n    <tr>\n      <th>878507</th>\n      <td>29.0</td>\n      <td>1609.0</td>\n      <td>42.0</td>\n      <td>214</td>\n      <td>3.0</td>\n      <td>45.0</td>\n      <td>4</td>\n      <td>10.0</td>\n      <td>10.0</td>\n      <td>DL</td>\n    </tr>\n    <tr>\n      <th>1723086</th>\n      <td>122.0</td>\n      <td>1906.0</td>\n      <td>288.0</td>\n      <td>2465</td>\n      <td>9.0</td>\n      <td>10.0</td>\n      <td>4</td>\n      <td>129.0</td>\n      <td>19.0</td>\n      <td>B6</td>\n    </tr>\n    <tr>\n      <th>828262</th>\n      <td>5.0</td>\n      <td>1010.0</td>\n      <td>58.0</td>\n      <td>364</td>\n      <td>12.0</td>\n      <td>12.0</td>\n      <td>7</td>\n      <td>8.0</td>\n      <td>NaN</td>\n      <td>MQ</td>\n    </tr>\n    <tr>\n      <th>558495</th>\n      <td>-9.0</td>\n      <td>1029.0</td>\n      <td>158.0</td>\n      <td>1091</td>\n      <td>5.0</td>\n      <td>10.0</td>\n      <td>5</td>\n      <td>11.0</td>\n      <td>NaN</td>\n      <td>CO</td>\n    </tr>\n  </tbody>\n</table>\n</div>"
     },
     "metadata": {},
     "execution_count": 8
    }
   ],
   "source": [
    "d"
   ]
  },
  {
   "cell_type": "code",
   "execution_count": 9,
   "metadata": {},
   "outputs": [],
   "source": [
    "import categorical \n",
    "\n",
    "d = categorical.transform(d, \"UniqueCarrier\")"
   ]
  },
  {
   "cell_type": "code",
   "execution_count": 10,
   "metadata": {},
   "outputs": [],
   "source": [
    "d.replace([np.inf, -np.inf], np.nan, inplace=True)\n",
    "d.dropna(inplace=True)"
   ]
  },
  {
   "cell_type": "code",
   "execution_count": 11,
   "metadata": {},
   "outputs": [],
   "source": [
    "y = d['ArrDelay']\n",
    "X = d.drop('ArrDelay', axis = 'columns')\n",
    "\n",
    "X_train, X_test, y_train, y_test = train_test_split(X, y, test_size=0.33, random_state=42)"
   ]
  },
  {
   "cell_type": "code",
   "execution_count": 12,
   "metadata": {},
   "outputs": [],
   "source": [
    "#%pip install -U scikit-learn\n"
   ]
  },
  {
   "cell_type": "code",
   "execution_count": 13,
   "metadata": {},
   "outputs": [],
   "source": [
    "#%pip install auto-sklearn"
   ]
  },
  {
   "cell_type": "code",
   "execution_count": 14,
   "metadata": {},
   "outputs": [
    {
     "output_type": "stream",
     "name": "stdout",
     "text": [
      "auto-sklearn results:\n  Dataset name: c658396e-c9fe-11eb-bac5-03f13631734a\n  Metric: r2\n  Best validation score: 0.962278\n  Number of target algorithm runs: 48\n  Number of successful target algorithm runs: 46\n  Number of crashed target algorithm runs: 2\n  Number of target algorithms that exceeded the time limit: 0\n  Number of target algorithms that exceeded the memory limit: 0\n\n"
     ]
    }
   ],
   "source": [
    "import autosklearn.regression\n",
    "#ask.classification.AutoSklearnClassifier\n",
    "#ask.regression.AutoSklearnRegressor() for regression tasks\n",
    "model = autosklearn.regression.AutoSklearnRegressor(ensemble_size=10, #size of the end ensemble (minimum is 1)\n",
    "                                                 time_left_for_this_task=120, #the number of seconds the process runs for\n",
    "                                                 per_run_time_limit=30) #maximum seconds allocated per model\n",
    "model.fit(X_train, y_train) #begin fitting the search model\n",
    "print(model.sprint_statistics()) #print statistics for the search\n",
    "y_predictions = model.predict(X_test) #get predictions from the model"
   ]
  },
  {
   "cell_type": "code",
   "execution_count": null,
   "metadata": {},
   "outputs": [],
   "source": []
  },
  {
   "cell_type": "code",
   "execution_count": null,
   "metadata": {},
   "outputs": [],
   "source": []
  },
  {
   "cell_type": "code",
   "execution_count": null,
   "metadata": {},
   "outputs": [],
   "source": []
  },
  {
   "cell_type": "code",
   "execution_count": null,
   "metadata": {},
   "outputs": [],
   "source": [
    "y = d['ArrDelay']\n",
    "X = d.drop('ArrDelay', axis = 'columns')\n",
    "\n",
    "X_train, X_test, y_train, y_test = train_test_split(X, y, test_size=0.33, random_state=42)\n",
    "\n",
    "model = MyAutoMLClassifier()\n",
    "model.fit(X_train,y_train)"
   ]
  },
  {
   "cell_type": "code",
   "execution_count": null,
   "metadata": {},
   "outputs": [],
   "source": [
    "balanced_accuracy_score(y_test, model.predict(X_test))"
   ]
  },
  {
   "cell_type": "code",
   "execution_count": null,
   "metadata": {},
   "outputs": [],
   "source": [
    "model.best_pipeline"
   ]
  }
 ]
}